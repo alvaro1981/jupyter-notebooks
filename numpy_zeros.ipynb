{
 "cells": [
  {
   "cell_type": "code",
   "execution_count": 1,
   "id": "0f5dbe82-6969-4e02-a44f-7843c31061af",
   "metadata": {},
   "outputs": [],
   "source": [
    "import numpy as np\n"
   ]
  },
  {
   "cell_type": "code",
   "execution_count": 3,
   "id": "dd044d28-529e-44eb-9968-509808e8b038",
   "metadata": {},
   "outputs": [
    {
     "name": "stdout",
     "output_type": "stream",
     "text": [
      "[0. 0. 0.]\n"
     ]
    }
   ],
   "source": [
    "array_1d = np.zeros(3)\n",
    "print(array_1d)"
   ]
  },
  {
   "cell_type": "code",
   "execution_count": 4,
   "id": "c57895c0-3baf-4ed1-a93c-ccdfaeeb4b7a",
   "metadata": {},
   "outputs": [
    {
     "name": "stdout",
     "output_type": "stream",
     "text": [
      "[[0. 0. 0.]\n",
      " [0. 0. 0.]]\n"
     ]
    }
   ],
   "source": [
    "# creacion de una matriz multidimensional\n",
    "\n",
    "array_2d = np.zeros((2,3))\n",
    "print(array_2d)"
   ]
  },
  {
   "cell_type": "code",
   "execution_count": 5,
   "id": "a6395e0b-7a12-45d3-996d-5ac5ac698014",
   "metadata": {},
   "outputs": [
    {
     "name": "stdout",
     "output_type": "stream",
     "text": [
      "[[0 0 0]\n",
      " [0 0 0]]\n"
     ]
    }
   ],
   "source": [
    "# matriz de ceros con tipo de datos Int \n",
    "array_2d_int = np.zeros((2, 3), dtype=int)\n",
    "print(array_2d_int)"
   ]
  },
  {
   "cell_type": "code",
   "execution_count": 7,
   "id": "548926ba-18c2-430b-8fd0-82b1672a408f",
   "metadata": {},
   "outputs": [
    {
     "name": "stdout",
     "output_type": "stream",
     "text": [
      "[[(0, 0.) (0, 0.)]\n",
      " [(0, 0.) (0, 0.)]]\n",
      "[('x', '<i8'), ('y', '<f8')]\n"
     ]
    }
   ],
   "source": [
    "#matrix con tipo de datos tupla y ceros\n",
    "array_mix_type = np.zeros((2,2), dtype = [('x','int'), ('y','float')])\n",
    "print(array_mix_type)\n",
    "print(array_mix_type.dtype)"
   ]
  },
  {
   "cell_type": "code",
   "execution_count": 11,
   "id": "90272a02-93c3-4f68-902f-af1d2f95e282",
   "metadata": {},
   "outputs": [],
   "source": [
    "class Clase:\n",
    "    def metodo(self, arg1, arg2):\n",
    "        return 'metodo normal', self\n",
    "    @classmethod\n",
    "    def metododeclase(cls):\n",
    "        return 'metodo de clase', cls\n",
    "        "
   ]
  },
  {
   "cell_type": "code",
   "execution_count": 12,
   "id": "e385f5da-3559-429a-b66e-36df061a2e28",
   "metadata": {},
   "outputs": [],
   "source": [
    "mi_clase = Clase()\n"
   ]
  },
  {
   "cell_type": "code",
   "execution_count": 13,
   "id": "43fbd92c-f70b-4dc8-9264-c9e6c8a108c0",
   "metadata": {},
   "outputs": [
    {
     "data": {
      "text/plain": [
       "('metodo normal', <__main__.Clase at 0x1c266b74980>)"
      ]
     },
     "execution_count": 13,
     "metadata": {},
     "output_type": "execute_result"
    }
   ],
   "source": [
    "mi_clase.metodo(\"a\", \"b\")"
   ]
  },
  {
   "cell_type": "code",
   "execution_count": 15,
   "id": "c7667b17-1fc4-44e9-83ba-c93b6bd68be1",
   "metadata": {},
   "outputs": [
    {
     "data": {
      "text/plain": [
       "('metodo de clase', __main__.Clase)"
      ]
     },
     "execution_count": 15,
     "metadata": {},
     "output_type": "execute_result"
    }
   ],
   "source": [
    "mi_clase.metododeclase()\n"
   ]
  },
  {
   "cell_type": "code",
   "execution_count": 16,
   "id": "65139379-fc99-48b6-a3f3-b9e0e87e38e8",
   "metadata": {},
   "outputs": [
    {
     "name": "stderr",
     "output_type": "stream",
     "text": [
      "C:\\Users\\hp\\AppData\\Local\\Temp\\ipykernel_13212\\1754801806.py:1: DeprecationWarning: Data type alias 'a' was deprecated in NumPy 2.0. Use the 'S' alias instead.\n",
      "  data = np.zeros((2,), dtype=[(\"A\", \"i4\"), (\"B\",\"f4\"), (\"C\",\"a10\")])\n"
     ]
    }
   ],
   "source": [
    "data = np.zeros((2,), dtype=[(\"A\", \"i4\"), (\"B\",\"f4\"), (\"C\",\"a10\")])\n"
   ]
  },
  {
   "cell_type": "code",
   "execution_count": null,
   "id": "462ce783-e5ba-4e90-a60d-66407759a7b9",
   "metadata": {},
   "outputs": [],
   "source": []
  }
 ],
 "metadata": {
  "kernelspec": {
   "display_name": "Python 3 (ipykernel)",
   "language": "python",
   "name": "python3"
  },
  "language_info": {
   "codemirror_mode": {
    "name": "ipython",
    "version": 3
   },
   "file_extension": ".py",
   "mimetype": "text/x-python",
   "name": "python",
   "nbconvert_exporter": "python",
   "pygments_lexer": "ipython3",
   "version": "3.12.6"
  }
 },
 "nbformat": 4,
 "nbformat_minor": 5
}
