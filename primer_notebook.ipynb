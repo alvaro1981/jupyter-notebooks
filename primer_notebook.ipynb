{
 "cells": [
  {
   "cell_type": "code",
   "execution_count": 1,
   "id": "fe6eac16-6f79-4ff7-a4d6-1a4141d06a1a",
   "metadata": {},
   "outputs": [
    {
     "name": "stdout",
     "output_type": "stream",
     "text": [
      "HEllo world\n"
     ]
    }
   ],
   "source": [
    "print(\"HEllo world\")"
   ]
  },
  {
   "cell_type": "code",
   "execution_count": 2,
   "id": "ad8915af-39fb-4625-b1b4-a6f9db913ac9",
   "metadata": {},
   "outputs": [
    {
     "name": "stdout",
     "output_type": "stream",
     "text": [
      "HEllo world\n"
     ]
    }
   ],
   "source": [
    "print(\"HEllo world\")"
   ]
  },
  {
   "cell_type": "code",
   "execution_count": 3,
   "id": "2ea9a6f5-9c97-463d-8d77-e7602695e28a",
   "metadata": {},
   "outputs": [],
   "source": [
    "import time\n",
    "time.sleep(3)"
   ]
  },
  {
   "cell_type": "code",
   "execution_count": 4,
   "id": "79e3f9f5-c57b-4303-927a-4ea98aeda786",
   "metadata": {},
   "outputs": [
    {
     "data": {
      "text/plain": [
       "'Hello, Tim!'"
      ]
     },
     "execution_count": 4,
     "metadata": {},
     "output_type": "execute_result"
    }
   ],
   "source": [
    "def say_hello(recipient):\n",
    "  return 'Hello, {}!'.format(recipient)\n",
    "say_hello('Tim')"
   ]
  },
  {
   "cell_type": "markdown",
   "id": "e9a31474-f53f-40cf-8830-35b8fa54d0a8",
   "metadata": {},
   "source": [
    "# This a level 1 heading\n",
    "\n",
    "# This a level 2 heading\n",
    "\n",
    "This is some plain text that forms a paragraph. Add emphasis via **bold** or __bold__, and *italic* or _italic_.\n",
    "\n",
    "* Sometimes we want to include lists.\n",
    "* Which can be bulleted using asterisks.\n",
    "\n",
    "1. Lists can also be numbered.\n",
    "2. If we want an ordered list.\n",
    "\n",
    "[It is possible to include Hyperlinks](https://wwww.dataquest.io)\n",
    "   \n",
    "Inline code uses single backticks:`foo()`, and code blocks use triple backticks:\n",
    "```\n",
    "bar()\n",
    "```\n",
    "Or can be indented by 4 spaces:\n",
    "```\n",
    "    foo()\n",
    "```\n",
    "\n",
    "And finally, adding images is easy: ![Alt text](https://www.dataquest.io/wp-content/uploads/2023/02/DQ-Logo.svg)\n"
   ]
  },
  {
   "cell_type": "code",
   "execution_count": 5,
   "id": "15c12b5f-0e24-4ebb-99ae-6b9f629f115d",
   "metadata": {},
   "outputs": [],
   "source": [
    "import numpy as np \n",
    "def square(x):\n",
    "    return x * x"
   ]
  },
  {
   "cell_type": "code",
   "execution_count": 6,
   "id": "ff0d53e2-276c-44a5-a103-7a088f50f7a8",
   "metadata": {},
   "outputs": [
    {
     "name": "stdout",
     "output_type": "stream",
     "text": [
      "8 squared is 64\n"
     ]
    }
   ],
   "source": [
    "x = np.random.randint(1, 10)\n",
    "y = square(x)\n",
    "print('%d squared is %d' % (x, y))"
   ]
  },
  {
   "cell_type": "code",
   "execution_count": 7,
   "id": "f4387904-b6ed-404e-bd0d-e5a7e7a1870e",
   "metadata": {},
   "outputs": [
    {
     "name": "stdout",
     "output_type": "stream",
     "text": [
      "8 squared is 64\n"
     ]
    }
   ],
   "source": [
    "print('%d squared is %d' % (x, y))"
   ]
  },
  {
   "cell_type": "code",
   "execution_count": 8,
   "id": "a4636723-2f82-416a-8daf-e3dfb3d9dfa2",
   "metadata": {},
   "outputs": [
    {
     "name": "stdout",
     "output_type": "stream",
     "text": [
      "8 squared is 10\n"
     ]
    }
   ],
   "source": [
    "y = 10\n",
    "print('%d squared is %d' % (x,y))"
   ]
  },
  {
   "cell_type": "code",
   "execution_count": null,
   "id": "09f729ff-dbd1-4947-bc09-f3c999e8ded9",
   "metadata": {},
   "outputs": [],
   "source": []
  }
 ],
 "metadata": {
  "kernelspec": {
   "display_name": "Python 3 (ipykernel)",
   "language": "python",
   "name": "python3"
  },
  "language_info": {
   "codemirror_mode": {
    "name": "ipython",
    "version": 3
   },
   "file_extension": ".py",
   "mimetype": "text/x-python",
   "name": "python",
   "nbconvert_exporter": "python",
   "pygments_lexer": "ipython3",
   "version": "3.12.6"
  }
 },
 "nbformat": 4,
 "nbformat_minor": 5
}
