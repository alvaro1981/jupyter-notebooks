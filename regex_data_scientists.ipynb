{
 "cells": [
  {
   "cell_type": "code",
   "execution_count": 1,
   "id": "69b61878-7ae1-4b70-a473-0f530cefd21a",
   "metadata": {},
   "outputs": [],
   "source": [
    "import re\n",
    "import pandas as pd\n",
    "import email\n",
    "\n",
    "emails = []\n",
    "\n",
    "fh = open(r\"C:\\Users\\hp\\Documents\\test_emails.txt\", \"r\").read()"
   ]
  },
  {
   "cell_type": "code",
   "execution_count": 2,
   "id": "30ea9cf7-454a-4dbb-b8d2-315a16861841",
   "metadata": {},
   "outputs": [
    {
     "data": {
      "text/plain": [
       "''"
      ]
     },
     "execution_count": 2,
     "metadata": {},
     "output_type": "execute_result"
    }
   ],
   "source": [
    "contents = re.split(r\"From r\", fh)\n",
    "contents.pop(0)"
   ]
  },
  {
   "cell_type": "code",
   "execution_count": 3,
   "id": "3d435689-4f8c-42e6-a1e1-28f989de9300",
   "metadata": {},
   "outputs": [
    {
     "name": "stdout",
     "output_type": "stream",
     "text": [
      " subject :  URGENT ASSISTANCE /RELATIONSHIP (P)\n",
      "Date: Thu, 31 Oct 2002 05:10:00\n",
      "Date Formateado utilizando + para el patron : 31 Oct 2002\n",
      "Date Formateado utilizando * para el patron :  31 \n",
      "bensul2004nng@spinfinder.com\n",
      " \"Mr. Ben Suleman\" \n",
      " subject :  GOOD DAY TO YOU\n",
      "Date: Thu, 31 Oct 2002 22:17:55 +0100\n",
      "Date Formateado utilizando + para el patron : 31 Oct 2002\n",
      "Date Formateado utilizando * para el patron :  31 \n",
      "obong_715@epatra.com\n",
      " \"PRINCE OBONG ELEME\" \n",
      "Number of emails: 2\n",
      "subject: GOOD DAY TO YOU\n",
      "date_sent: 31 Oct 2002\n",
      "sender_email: obong_715@epatra.com\n",
      "sender_name:  \"PRINCE OBONG ELEME\" \n",
      "recipient_email: obong_715@epatra.com\n",
      "recipient_name: None\n",
      "email_body: FROM HIS ROYAL MAJESTY (HRM) CROWN RULER OF ELEME KINGDOM \n",
      "CHIEF DANIEL ELEME, PHD, EZE 1 OF ELEME.E-MAIL \n",
      "ADDRESS:obong_715@epatra.com  \n",
      "\n",
      "ATTENTION:PRESIDENT,CEO Sir/ Madam. \n",
      "\n",
      "This letter might surprise you because we have met\n",
      "neither in person nor by correspondence. But I believe\n",
      "it is one day that you got to know somebody either in\n",
      "physical or through correspondence. \n",
      "\n",
      "I got your contact through discreet inquiry from the\n",
      "chambers of commerce and industry of your country on\n",
      "the net, you and your organization were revealed as\n",
      "being quite astute in private entrepreneurship, one\n",
      "has no doubt in your ability to handle a financialbusiness transaction. \n",
      "\n",
      "However, I am the first son of His Royal\n",
      "majesty,Obong.D. Eleme , and the traditional Ruler of\n",
      "Eleme Province in the oil producing area of River\n",
      "State of Nigeria. I am making this contact to you in\n",
      "respect of US$60,000,000.00 (Sixty Million United\n",
      "State Dollars), which I inherited, from my latefather. \n",
      "\n",
      "This money was accumulated from royalties paid to my\n",
      "father as compensation by the oil firms located in our\n",
      "area as a result of oil presence on our land, which\n",
      "hamper agriculture, which is our major source oflivelihood. \n",
      "\n",
      "Unfortunately my father died from protracted\n",
      "diabetes.But before his death he called my attention\n",
      "and informed me that he lodged some funds on a two\n",
      "boxes with a security firm with an open beneficiary\n",
      "status. The lodgment security code number was also\n",
      "revealed to me, he then advised me to look for a\n",
      "reliable business partner abroad, that will assist me\n",
      "in investing the money in a lucrative business as a\n",
      "result of economic instability in Nigeria. So this is\n",
      "the main reason why I am contacting you for us to move\n",
      "this money from the security firm to any Country of\n",
      "your choice for investment purpose. \n",
      "\n",
      "So I will like you to be the ultimate beneficiary, so\n",
      "that the funds can be moved in your name and\n",
      "particulars to any Country of your choice where it\n",
      "will be claimed and invested. Hence my father have had\n",
      "intimated the security firm personnel that the\n",
      "beneficiary of the box is his foreign partner whose\n",
      "particulars will be forwarded to the firm when due. \n",
      "\n",
      "But I will guide you Accordingly. As soon as the funds\n",
      "reach, I will then come over to meet you in person, so\n",
      "that we can discuss physically on investment\n",
      "potentials. Based on this assistance my Family and I\n",
      "have unanimously decided to give you 30% of the total\n",
      "money, 5% for Charity home, 10% for expenses, which\n",
      "may arise during this transaction, Fax and phone bills\n",
      "inclusive. The balance of 55% you will invest andmanaged for my Family. \n",
      "\n",
      "I hereby guarantee you that this is not government\n",
      "money, it is not drug money and it is not money from\n",
      "arms deal. Though you have to maintain high degree of\n",
      "confidentiality on this matter. I will give more\n",
      "details about the proceedings of this transaction as\n",
      "soon as I receive your favorable reply. \n",
      "\n",
      "Please reply to my Email Address:obong_715@epatra.com\n",
      "I hope this will be the beginning of a prosperous\n",
      "relationship between my family and your family. \n",
      "\n",
      "Nevertheless if you are for any reason not interested,\n",
      "kindly inform me immediately so that I will look foranother contact. \n",
      "\n",
      "I am waiting for your quick response. \n",
      "\n",
      "Yours faithfully, \n",
      "\n",
      "Prince Obong Abbot \n"
     ]
    }
   ],
   "source": [
    "for item in contents:\n",
    "# First two lines again so that Jupyter runs the code.\n",
    "    emails_dict = {}\n",
    "\n",
    "    subject_field = re.search(r\"Subject: .*\", item)\n",
    "\n",
    "    if subject_field is not None:\n",
    "        subject = re.sub(r\"Subject: \",\"\", subject_field.group())\n",
    "    else:\n",
    "        subject = None\n",
    "\n",
    "    emails_dict[\"subject\"] = subject\n",
    "    \n",
    "    print(\" subject : \" , subject)\n",
    "    \n",
    "    date_field = re.search(r\"Date:.*\", item)\n",
    "\n",
    "    if date_field is not None:\n",
    "        date = re.search(r\"\\d+\\s\\w+\\s\\d+\", date_field.group())\n",
    "        # La siguiente linea de codigo solo se hizo para ver las diferencia entre las expresion utilizando * en lugar de + \n",
    "        date_star_test = re.search(r\"\\d*\\s\\w*\\s\\d*\", date_field.group())\n",
    "    else:\n",
    "        date = None\n",
    "        date_star_test = None\n",
    "\n",
    "    if date is not None:\n",
    "        date_sent = date.group()\n",
    "        date_star = date_star_test.group()\n",
    "    else:     \n",
    "        date_sent = None\n",
    "        date_star = None\n",
    "        \n",
    "    emails_dict[\"date_sent\"] = date_sent\n",
    "    \n",
    "    print(date_field.group())\n",
    "    print(\"Date Formateado utilizando + para el patron :\",  date_sent)\n",
    "    print(\"Date Formateado utilizando * para el patron :\",  date_star)\n",
    "    \n",
    "\n",
    "    \n",
    "# Find sender's email address and name.\n",
    "\n",
    "    # Step 1: find the whole line beginning with \"From:\".\n",
    "    sender = re.search(r\"From:.*\", item)\n",
    "    \n",
    "    # Step 2: find the email address and name.\n",
    "    if sender is not None:\n",
    "        s_email = re.search(r\"\\w\\S*@.*\\w\", sender.group())\n",
    "        s_name = re.search(r\":.*<\", sender.group())\n",
    "    else:\n",
    "        s_email = None\n",
    "        s_name = None\n",
    "        \n",
    "    # Step 3A: assign email address as string to a variable.\n",
    "    if s_email is not None:\n",
    "        sender_email = s_email.group()\n",
    "    else:\n",
    "        sender_email = none\n",
    "    #add email address to dictionary\n",
    "    emails_dict[\"sender_email\"] = sender_email\n",
    "\n",
    "    # Step 3B: remove unwanted substrings, assign to variable.\n",
    "    if s_name is not None:\n",
    "        sender_name = re.sub(\"s*<\", \"\", re.sub(\":s*\", \"\", s_name.group()))\n",
    "    else:\n",
    "        sender_name = None\n",
    "    #Add sender's name to dictionary.\n",
    "    emails_dict[\"sender_name\"] = sender_name\n",
    "        \n",
    "    print(sender_email)\n",
    "    print(sender_name)\n",
    "\n",
    "\n",
    "    recipient = re.search(r\"To:.*\", item)\n",
    "\n",
    "    if recipient is not None:\n",
    "        r_email = re.search(r\"\\w\\S*@.*\\w\", recipient.group())\n",
    "     #   r_email = re.search(r\"wS*@.*w\", recipient.group())\n",
    "        r_name = re.search(r\":.*<\", recipient.group())\n",
    "    else:\n",
    "         r_email = None\n",
    "         r_name = None\n",
    "\n",
    "    if r_email is not None:\n",
    "            recipient_email = r_email.group()\n",
    "    else:\n",
    "            recipient_email = None\n",
    "            \n",
    "    emails_dict[\"recipient_email\"] = recipient_email    \n",
    "    \n",
    "    if r_name is not None:\n",
    "        recipient_name = re.sub(\"s*<\", \"\", re.sub(\":s*\",\"\",r_name.group()))\n",
    "    else:\n",
    "        recipient_name = None\n",
    "\n",
    "    emails_dict[\"recipient_name\"] = recipient_name    \n",
    "\n",
    "   # \"item\" substituted with \"email content here\" so full email not\n",
    "# displayed.\n",
    "\n",
    "    full_email = email.message_from_string(item)\n",
    "    body = full_email.get_payload()\n",
    "    emails_dict[\"email_body\"] = body\n",
    "  \n",
    "    emails.append(emails_dict)\n",
    "    # Print number of dictionaries, and hence, emails, in the list.\n",
    "print(\"Number of emails: \" + str(len(emails)))\n",
    "# Print first item in the emails list to see how it looks.\n",
    "for key, value in emails[1].items():\n",
    "    print(str(key) + \": \" + str(emails[1][key]))\n",
    "\n",
    "\n",
    "\n",
    "        \n",
    "        \n"
   ]
  },
  {
   "cell_type": "code",
   "execution_count": 6,
   "id": "b9f790d7-e7fe-4d5e-85d9-4e3dd1d1b5c8",
   "metadata": {},
   "outputs": [],
   "source": [
    "emails_df = pd.DataFrame(emails)\n"
   ]
  },
  {
   "cell_type": "code",
   "execution_count": 10,
   "id": "8571eea6-afc7-4c3a-a702-dd20d5f9531f",
   "metadata": {},
   "outputs": [
    {
     "data": {
      "text/html": [
       "<div>\n",
       "<style scoped>\n",
       "    .dataframe tbody tr th:only-of-type {\n",
       "        vertical-align: middle;\n",
       "    }\n",
       "\n",
       "    .dataframe tbody tr th {\n",
       "        vertical-align: top;\n",
       "    }\n",
       "\n",
       "    .dataframe thead th {\n",
       "        text-align: right;\n",
       "    }\n",
       "</style>\n",
       "<table border=\"1\" class=\"dataframe\">\n",
       "  <thead>\n",
       "    <tr style=\"text-align: right;\">\n",
       "      <th></th>\n",
       "      <th>subject</th>\n",
       "      <th>date_sent</th>\n",
       "      <th>sender_email</th>\n",
       "      <th>sender_name</th>\n",
       "      <th>recipient_email</th>\n",
       "      <th>recipient_name</th>\n",
       "      <th>email_body</th>\n",
       "    </tr>\n",
       "  </thead>\n",
       "  <tbody>\n",
       "    <tr>\n",
       "      <th>0</th>\n",
       "      <td>URGENT ASSISTANCE /RELATIONSHIP (P)</td>\n",
       "      <td>31 Oct 2002</td>\n",
       "      <td>bensul2004nng@spinfinder.com</td>\n",
       "      <td>\"Mr. Ben Suleman\"</td>\n",
       "      <td>R@M</td>\n",
       "      <td>None</td>\n",
       "      <td>Dear Friend,\\n\\nI am Mr. Ben Suleman a custom ...</td>\n",
       "    </tr>\n",
       "  </tbody>\n",
       "</table>\n",
       "</div>"
      ],
      "text/plain": [
       "                               subject    date_sent  \\\n",
       "0  URGENT ASSISTANCE /RELATIONSHIP (P)  31 Oct 2002   \n",
       "\n",
       "                   sender_email          sender_name recipient_email  \\\n",
       "0  bensul2004nng@spinfinder.com   \"Mr. Ben Suleman\"              R@M   \n",
       "\n",
       "  recipient_name                                         email_body  \n",
       "0           None  Dear Friend,\\n\\nI am Mr. Ben Suleman a custom ...  "
      ]
     },
     "execution_count": 10,
     "metadata": {},
     "output_type": "execute_result"
    }
   ],
   "source": [
    "pd.DataFrame.head(emails_df, n=1)\n"
   ]
  },
  {
   "cell_type": "code",
   "execution_count": 9,
   "id": "9e32c074-f9ea-4ae5-8eaf-8cb8f68d8d1b",
   "metadata": {},
   "outputs": [
    {
     "data": {
      "text/html": [
       "<div>\n",
       "<style scoped>\n",
       "    .dataframe tbody tr th:only-of-type {\n",
       "        vertical-align: middle;\n",
       "    }\n",
       "\n",
       "    .dataframe tbody tr th {\n",
       "        vertical-align: top;\n",
       "    }\n",
       "\n",
       "    .dataframe thead th {\n",
       "        text-align: right;\n",
       "    }\n",
       "</style>\n",
       "<table border=\"1\" class=\"dataframe\">\n",
       "  <thead>\n",
       "    <tr style=\"text-align: right;\">\n",
       "      <th></th>\n",
       "      <th>subject</th>\n",
       "      <th>date_sent</th>\n",
       "      <th>sender_email</th>\n",
       "      <th>sender_name</th>\n",
       "      <th>recipient_email</th>\n",
       "      <th>recipient_name</th>\n",
       "      <th>email_body</th>\n",
       "    </tr>\n",
       "  </thead>\n",
       "  <tbody>\n",
       "    <tr>\n",
       "      <th>0</th>\n",
       "      <td>URGENT ASSISTANCE /RELATIONSHIP (P)</td>\n",
       "      <td>31 Oct 2002</td>\n",
       "      <td>bensul2004nng@spinfinder.com</td>\n",
       "      <td>\"Mr. Ben Suleman\"</td>\n",
       "      <td>R@M</td>\n",
       "      <td>None</td>\n",
       "      <td>Dear Friend,\\n\\nI am Mr. Ben Suleman a custom ...</td>\n",
       "    </tr>\n",
       "    <tr>\n",
       "      <th>1</th>\n",
       "      <td>GOOD DAY TO YOU</td>\n",
       "      <td>31 Oct 2002</td>\n",
       "      <td>obong_715@epatra.com</td>\n",
       "      <td>\"PRINCE OBONG ELEME\"</td>\n",
       "      <td>obong_715@epatra.com</td>\n",
       "      <td>None</td>\n",
       "      <td>FROM HIS ROYAL MAJESTY (HRM) CROWN RULER OF EL...</td>\n",
       "    </tr>\n",
       "  </tbody>\n",
       "</table>\n",
       "</div>"
      ],
      "text/plain": [
       "                               subject    date_sent  \\\n",
       "0  URGENT ASSISTANCE /RELATIONSHIP (P)  31 Oct 2002   \n",
       "1                      GOOD DAY TO YOU  31 Oct 2002   \n",
       "\n",
       "                   sender_email             sender_name       recipient_email  \\\n",
       "0  bensul2004nng@spinfinder.com      \"Mr. Ben Suleman\"                    R@M   \n",
       "1          obong_715@epatra.com   \"PRINCE OBONG ELEME\"   obong_715@epatra.com   \n",
       "\n",
       "  recipient_name                                         email_body  \n",
       "0           None  Dear Friend,\\n\\nI am Mr. Ben Suleman a custom ...  \n",
       "1           None  FROM HIS ROYAL MAJESTY (HRM) CROWN RULER OF EL...  "
      ]
     },
     "execution_count": 9,
     "metadata": {},
     "output_type": "execute_result"
    }
   ],
   "source": [
    "emails_df.head()\n"
   ]
  },
  {
   "cell_type": "code",
   "execution_count": 13,
   "id": "c76f2ff0-9278-44c4-b535-d7add672c281",
   "metadata": {},
   "outputs": [
    {
     "data": {
      "text/plain": [
       "0     True\n",
       "1    False\n",
       "Name: sender_email, dtype: bool"
      ]
     },
     "execution_count": 13,
     "metadata": {},
     "output_type": "execute_result"
    }
   ],
   "source": [
    "emails_df[\"sender_email\"].str.contains(\"spinfinder\")\n"
   ]
  },
  {
   "cell_type": "code",
   "execution_count": 19,
   "id": "37c0bbb0-ca8b-43ad-b448-e5f22828e73e",
   "metadata": {},
   "outputs": [
    {
     "name": "stdout",
     "output_type": "stream",
     "text": [
      "[0]\n",
      "<class 'numpy.ndarray'>\n"
     ]
    }
   ],
   "source": [
    "# Step 1: find the index where the \"sender_email\" column contains \"@spinfinder.com\".\n",
    "index = emails_df[emails_df[\"sender_email\"].str.contains(r\"\\w\\S*@spinfinder.com\")].index.values\n",
    "print(index)\n",
    "print(type(index))\n"
   ]
  },
  {
   "cell_type": "code",
   "execution_count": 20,
   "id": "4c209fa3-bd36-4542-9214-7977ba0500d8",
   "metadata": {},
   "outputs": [
    {
     "name": "stdout",
     "output_type": "stream",
     "text": [
      "0    bensul2004nng@spinfinder.com\n",
      "Name: sender_email, dtype: object\n"
     ]
    }
   ],
   "source": [
    "# Step 2: use the index to find the value of the cell i the \"sender_email\" column.\n",
    "# The result is returned as pandas Series object\n",
    "address_Series = emails_df.loc[index][\"sender_email\"]\n",
    "print(address_Series)\n",
    "print(type(address_Series))"
   ]
  },
  {
   "cell_type": "code",
   "execution_count": 21,
   "id": "cc1a6ec1-712d-4018-b3bc-52d18775cdca",
   "metadata": {},
   "outputs": [
    {
     "name": "stdout",
     "output_type": "stream",
     "text": [
      "bensul2004nng@spinfinder.com\n",
      "<class 'str'>\n"
     ]
    }
   ],
   "source": [
    "# Step 3: extract the email address, which is at index 0 in the Series object.\n",
    "address_string = address_Series[0]\n",
    "print(address_string)\n",
    "print(type(address_string))"
   ]
  },
  {
   "cell_type": "code",
   "execution_count": 22,
   "id": "2721c81f-c84c-4fef-b3d4-da92643ba085",
   "metadata": {},
   "outputs": [
    {
     "name": "stdout",
     "output_type": "stream",
     "text": [
      "['Dear Friend,\\n\\nI am Mr. Ben Suleman a custom officer and work as Assistant controller of the Customs and Excise department Of the Federal Ministry of Internal Affairs stationed at the Murtala Mohammed International Airport, Ikeja, Lagos-Nigeria.\\n\\nAfter the sudden death of the former Head of state of Nigeria General Sanni Abacha on June 8th 1998 his aides and immediate members of his family were arrested while trying to escape from Nigeria in a Chartered jet to Saudi Arabia with 6 trunk boxes Marked \"Diplomatic Baggage\". Acting on a tip-off as they attempted to board the Air Craft,my officials carried out a thorough search on the air craft and discovered that the 6 trunk boxes contained foreign currencies amounting to US$197,570,000.00(One Hundred and  Ninety-Seven Million Five Hundred Seventy Thousand United States Dollars).\\n\\nI declared only (5) five boxes to the government and withheld one (1) in my custody containing the sum of (US$30,000,000.00) Thirty Million United States Dollars Only, which has been disguised to prevent their being discovered during transportation process.Due to several media reports on the late head of state about all the money him and his co-government officials stole from our government treasury amounting\\nto US$55 Billion Dollars (ref:ngrguardiannews.com) of July 2nd 1999. Even the London times of July 1998 reported that General Abacha has over US$3.Billion dollars in one account overseas. We decided to conceal this one (1)box till the situation is calm and quite on the issue. The box was thus deposited with a security company here in Nigeria and tagged as \"Precious Stones and Jewellry\" in other that its\\ncontent will not be discovered. Now that all is calm, we (myself and two of my colleagues in the operations team) are now ready to move this box out of the country through a diplomatic arrangement which is the safest means. \\n\\nHowever as government officials the Civil Service Code of Conduct does not allow us by law to operate any foreign account or own foreign investment and the amount of money that can be found in our account\\ncannot be more than our salary on the average, thus our handicapp and our need for your assistance to help collect and keep safely in your account this money.\\n\\nTherefore we want you to assist us in moving this money out of Nigeria. We shall definitely compensate you handsomely for the assistance. We can do this by instructing the Security Company here in Nigeria to\\nmove the consignment to their affiliate branch office outside Nigeria through diplomatic means and the consignment will be termed as Precious Stones and Jewelleries\" which you bought during your visit to Nigeria and is being transfered to your country from here for safe keeping. Then we can arrange to meet at the destination country to take the delivery of the consignment. You will thereafter open an account there and lodge the Money there and gradually instruct remittance to your Country. \\n\\nThis business is 100% risk free for you so please treat this matter with utmost confidentiality .If you indicate your interest to assist us please just e-mail me for more Explanation on how we plan to execute the transaction.\\n\\nExpecting your response urgently.\\n\\nBest regards,\\n\\nMr. Ben Suleman\\n\\n']\n"
     ]
    }
   ],
   "source": [
    "# Step 4: find the value of the \"email_body\" column where the \"sender email\" column is address_string.\n",
    "print(emails_df[emails_df[\"sender_email\"] == address_string][\"email_body\"].values)"
   ]
  },
  {
   "cell_type": "code",
   "execution_count": null,
   "id": "d88ba7b4-71f5-4b0e-952d-771155d9bd19",
   "metadata": {},
   "outputs": [],
   "source": []
  }
 ],
 "metadata": {
  "kernelspec": {
   "display_name": "Python 3 (ipykernel)",
   "language": "python",
   "name": "python3"
  },
  "language_info": {
   "codemirror_mode": {
    "name": "ipython",
    "version": 3
   },
   "file_extension": ".py",
   "mimetype": "text/x-python",
   "name": "python",
   "nbconvert_exporter": "python",
   "pygments_lexer": "ipython3",
   "version": "3.12.6"
  }
 },
 "nbformat": 4,
 "nbformat_minor": 5
}
