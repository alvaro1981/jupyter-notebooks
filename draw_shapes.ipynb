{
 "cells": [
  {
   "cell_type": "code",
   "execution_count": 9,
   "id": "444e695b-a024-4963-a48b-e29da8c9e409",
   "metadata": {},
   "outputs": [
    {
     "name": "stdout",
     "output_type": "stream",
     "text": [
      "img = \n",
      " [[0 0 0 0 0]\n",
      " [0 0 0 0 0]\n",
      " [0 0 0 0 0]\n",
      " [0 0 0 0 0]\n",
      " [0 0 0 0 0]]\n",
      "[[1 2 3]\n",
      " [1 2 3]\n",
      " [1 2 3]]\n",
      "[[1 1 1]\n",
      " [2 2 2]\n",
      " [3 3 3]]\n"
     ]
    },
    {
     "data": {
      "text/plain": [
       "<matplotlib.image.AxesImage at 0x1a0aa4af980>"
      ]
     },
     "execution_count": 9,
     "metadata": {},
     "output_type": "execute_result"
    },
    {
     "data": {
      "image/png": "[encoded data removed]",
      "text/plain": [
       "<Figure size 640x480 with 1 Axes>"
      ]
     },
     "metadata": {},
     "output_type": "display_data"
    }
   ],
   "source": [
    "import numpy as np\n",
    "import matplotlib.pyplot as plt\n",
    "import skimage as ski\n",
    "img = np.zeros((5, 5), dtype=np.uint8)\n",
    "print (f\"img = \\n {img }\")\n",
    "start = (1, 1)\n",
    "extent = (3, 3)\n",
    "rr, cc = ski.draw.rectangle(start, extent=extent, shape=img.shape)\n",
    "print(rr)\n",
    "print(cc)\n",
    "img[rr, cc] = 1\n",
    "fig, ax = plt.subplots()\n",
    "ax.imshow(img ,cmap=\"gray\")"
   ]
  },
  {
   "cell_type": "code",
   "execution_count": 29,
   "id": "af5d8f19-e205-4e39-9fcc-521b24bf3b69",
   "metadata": {},
   "outputs": [
    {
     "name": "stdout",
     "output_type": "stream",
     "text": [
      "[[0 0 0 0 0 0]\n",
      " [0 4 4 2 2 0]\n",
      " [0 4 4 2 2 0]\n",
      " [0 3 3 1 1 0]\n",
      " [0 3 3 1 1 0]\n",
      " [0 0 0 0 0 0]]\n"
     ]
    },
    {
     "data": {
      "image/png": "[encoded data removed]",
      "text/plain": [
       "<Figure size 640x480 with 1 Axes>"
      ]
     },
     "metadata": {},
     "output_type": "display_data"
    }
   ],
   "source": [
    "img = np.zeros((6, 6), dtype=np.uint8)\n",
    "start = (3, 3)\n",
    "rr, cc = ski.draw.rectangle(start, extent=(2, 2))\n",
    "img[rr, cc] = 1\n",
    "rr, cc = ski.draw.rectangle(start, extent=(-2, 2))\n",
    "img[rr, cc] = 2\n",
    "rr, cc = ski.draw.rectangle(start, extent=(2,-2))\n",
    "img[rr, cc] = 3\n",
    "rr, cc = ski.draw.rectangle(start, extent=(-2,-2))\n",
    "img[rr, cc] = 4\n",
    "\n",
    "fig, ax = plt.subplots()\n",
    "#ax.imshow(img)\n",
    "ax.imshow(img,cmap=\"gray\")\n",
    "print(img)"
   ]
  },
  {
   "cell_type": "markdown",
   "id": "b0ff6564-19c1-4d3e-a862-9bf3926f0cae",
   "metadata": {},
   "source": [
    "# wena choro"
   ]
  },
  {
   "cell_type": "code",
   "execution_count": null,
   "id": "b2e96464-b22e-4f0c-818c-e5eb8e44b072",
   "metadata": {},
   "outputs": [],
   "source": []
  },
  {
   "cell_type": "code",
   "execution_count": null,
   "id": "b4ad733f-6821-436d-98f5-a2cabc304c2e",
   "metadata": {},
   "outputs": [],
   "source": []
  }
 ],
 "metadata": {
  "kernelspec": {
   "display_name": "Python 3 (ipykernel)",
   "language": "python",
   "name": "python3"
  },
  "language_info": {
   "codemirror_mode": {
    "name": "ipython",
    "version": 3
   },
   "file_extension": ".py",
   "mimetype": "text/x-python",
   "name": "python",
   "nbconvert_exporter": "python",
   "pygments_lexer": "ipython3",
   "version": "3.12.6"
  }
 },
 "nbformat": 4,
 "nbformat_minor": 5
}
